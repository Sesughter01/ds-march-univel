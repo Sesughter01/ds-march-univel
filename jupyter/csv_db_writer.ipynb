{
 "cells": [
  {
   "cell_type": "code",
   "execution_count": 2,
   "id": "c4d10c2d",
   "metadata": {},
   "outputs": [],
   "source": [
    "import csv\n",
    "import pymysql.cursors"
   ]
  },
  {
   "cell_type": "code",
   "execution_count": 3,
   "id": "d8d522ac",
   "metadata": {},
   "outputs": [],
   "source": [
    "def write_to_db( query:str ):\n",
    "    \n",
    "    \"\"\"\n",
    "        This function takes a query and then sends it to the database.\n",
    "    \"\"\"\n",
    "    connection = pymysql.connect(host='localhost',\n",
    "                                 user='root',\n",
    "                                 password='',\n",
    "                                 database='loan',\n",
    "                                 cursorclass=pymysql.cursors.DictCursor)\n",
    "    with connection:\n",
    "        with connection.cursor() as cursor:\n",
    "            cursor.execute(query)\n",
    "\n",
    "        connection.commit()"
   ]
  },
  {
   "cell_type": "code",
   "execution_count": 4,
   "id": "6a1cd91f",
   "metadata": {},
   "outputs": [],
   "source": [
    "def process_file()->dict:\n",
    "    \n",
    "    \"\"\"This function gets a file name(csv format), \n",
    "        reads it and returns the column names, \n",
    "        also the records and filename, in a dictionary\n",
    "    \"\"\"\n",
    "    \n",
    "    header = None # COLUMN NAMES\n",
    "    records = [] # CORRESPONDING TABLE RECORDS FROM CSV\n",
    "    \n",
    "    path = input(\"Please enter file name or path\\n:> \")\n",
    "    with open(path) as csv_file:\n",
    "        \n",
    "        csv_reader = csv.reader(csv_file, delimiter=',')\n",
    "        line_count = 0\n",
    "        for row in csv_reader:\n",
    "\n",
    "            if line_count == 0:\n",
    "#                 print(f'\\t{row[1].ljust(15)} {row[3].ljust(25)} {row[5].ljust(15)}  {row[14].rjust(9)} {row[9].rjust(9)} \\n')\n",
    "                header = row # We assign the first row as the header.\n",
    "                line_count += 1\n",
    "            else:\n",
    "#                 print(f'\\t{row[1].ljust(15)} {row[3].ljust(25)} {row[5].ljust(15)}  {row[14].rjust(9)} {row[9].rjust(9)} \\n')\n",
    "                records.append(row) # Here we assign all the other rows to the records list.\n",
    "                line_count += 1\n",
    "        print(f'Processed {line_count} lines.')\n",
    "    \n",
    "    de_extensioned_filename = path.split(\".\")[0].replace(\" \", \"\").replace(\"-\", \"\")\n",
    "    return dict(colnames = header, records = records, filename = de_extensioned_filename)\n",
    "        \n",
    "        "
   ]
  },
  {
   "cell_type": "code",
   "execution_count": 11,
   "id": "e09e2f5a",
   "metadata": {},
   "outputs": [],
   "source": [
    "# process_file().keys()"
   ]
  },
  {
   "cell_type": "code",
   "execution_count": 8,
   "id": "540066de",
   "metadata": {},
   "outputs": [],
   "source": [
    "def create_table_from_cols(colnames:list, use_name:str)->bool:\n",
    "    \n",
    "    \"\"\"\n",
    "        This function will allow you to pass in a list of column names, \n",
    "        and another string which is the name for the new table,\n",
    "        It will then create an sql query that would be used to create\n",
    "        corresponding sql table.\n",
    "        \n",
    "        returns boolean (True/False) if task is successful or not respectively.\n",
    "    \"\"\"\n",
    "    \n",
    "    sql_query = f\"CREATE TABLE {use_name} (main_id INT(4) PRIMARY KEY AUTO_INCREMENT NOT NULL\" # Creat base query which will be same accross all tables created.\n",
    "    \n",
    "    for colname in colnames:\n",
    "        \n",
    "        if colname == \"\": # Deal with column name that are empty\n",
    "            colname = \"unknown_col\"\n",
    "        \n",
    "        colname = colname.replace(\" \", \"\")\n",
    "        sql_query += f\", {str(colname).strip()} VARCHAR(30)\" # Table info for each column name.\n",
    "    \n",
    "    sql_query += \");\" # Add closing tokens to query\n",
    "    print(sql_query)\n",
    "    \n",
    "    print(sql_query)\n",
    "    write_to_db(sql_query)\n",
    "    print(sql_query)\n",
    "    \n",
    "    return True\n",
    "    "
   ]
  },
  {
   "cell_type": "code",
   "execution_count": 43,
   "id": "a43cc8c1",
   "metadata": {},
   "outputs": [
    {
     "data": {
      "text/plain": [
       "True"
      ]
     },
     "execution_count": 43,
     "metadata": {},
     "output_type": "execute_result"
    }
   ],
   "source": [
    "def create_table_data(colnames:list, data:list, use_name:str)->bool:\n",
    "    \n",
    "    \"\"\"\n",
    "        \\nThis function will allow you to pass in a list of column names, \n",
    "        and another list containing the respective column data.\\n\n",
    "        \n",
    "        use_name : Name of table created or to write into\\n\n",
    "        data     : The list of data to be written (Should be a list of lists.)\\n\n",
    "        colnames : The list of column names intended to be written into.\\n\n",
    "        \n",
    "        These column names would be used to write the corresponding data respectively\n",
    "        \n",
    "        returns boolean (True/False) if task is successful or not respectively.\n",
    "    \"\"\"\n",
    "    \n",
    "    \n",
    "    \n",
    "#     print(data)\n",
    "    \n",
    "    for row in data:\n",
    "        sql_query = f\"INSERT INTO {use_name} ({','.join(colnames)}) VALUES(\" # Creat base query which will be same accross all tables created.\n",
    "        \n",
    "        for data in row:\n",
    "            sql_query += f\"'{data}',\"\n",
    "            \n",
    "        sql_query = sql_query[:-1] + \")\"\n",
    "        \n",
    "    \n",
    "        write_to_db(sql_query)\n",
    "        \n",
    "    return True\n",
    "\n",
    "create_table_data(col_names, records, use_name)"
   ]
  },
  {
   "cell_type": "code",
   "execution_count": 42,
   "id": "735570fe",
   "metadata": {},
   "outputs": [
    {
     "name": "stdout",
     "output_type": "stream",
     "text": [
      "Please enter file name or path\n",
      ":> Loan-2022-03-31.csv\n",
      "Processed 8904 lines.\n",
      "CREATE TABLE Loan20220331 (main_id INT(4) PRIMARY KEY AUTO_INCREMENT NOT NULL, id VARCHAR(30), customerId VARCHAR(30), currency VARCHAR(30), loanAmount VARCHAR(30), elgible_amount VARCHAR(30), dateOfDisbursement VARCHAR(30), dateOfCollection VARCHAR(30), due_date VARCHAR(30), totalCollectionAmount VARCHAR(30), numberOfRepayments VARCHAR(30), mandateReference VARCHAR(30), loan_disk_id VARCHAR(30), loan_status VARCHAR(30), average_salary VARCHAR(30), loan_obligation VARCHAR(30), monthly_repayment VARCHAR(30), loan_comment VARCHAR(30), paid_amount VARCHAR(30), last_paid_amount VARCHAR(30), last_paid_date VARCHAR(30), outstanding_loan_bal VARCHAR(30), remita_loan_repayment_ref VARCHAR(30), eligible_id VARCHAR(30), repayment_id VARCHAR(30), mandate_close VARCHAR(30), repayment_count VARCHAR(30), loan_percentage_taken VARCHAR(30), eligible_for_top_up VARCHAR(30), topup_eligible_amount VARCHAR(30));\n",
      "CREATE TABLE Loan20220331 (main_id INT(4) PRIMARY KEY AUTO_INCREMENT NOT NULL, id VARCHAR(30), customerId VARCHAR(30), currency VARCHAR(30), loanAmount VARCHAR(30), elgible_amount VARCHAR(30), dateOfDisbursement VARCHAR(30), dateOfCollection VARCHAR(30), due_date VARCHAR(30), totalCollectionAmount VARCHAR(30), numberOfRepayments VARCHAR(30), mandateReference VARCHAR(30), loan_disk_id VARCHAR(30), loan_status VARCHAR(30), average_salary VARCHAR(30), loan_obligation VARCHAR(30), monthly_repayment VARCHAR(30), loan_comment VARCHAR(30), paid_amount VARCHAR(30), last_paid_amount VARCHAR(30), last_paid_date VARCHAR(30), outstanding_loan_bal VARCHAR(30), remita_loan_repayment_ref VARCHAR(30), eligible_id VARCHAR(30), repayment_id VARCHAR(30), mandate_close VARCHAR(30), repayment_count VARCHAR(30), loan_percentage_taken VARCHAR(30), eligible_for_top_up VARCHAR(30), topup_eligible_amount VARCHAR(30));\n",
      "CREATE TABLE Loan20220331 (main_id INT(4) PRIMARY KEY AUTO_INCREMENT NOT NULL, id VARCHAR(30), customerId VARCHAR(30), currency VARCHAR(30), loanAmount VARCHAR(30), elgible_amount VARCHAR(30), dateOfDisbursement VARCHAR(30), dateOfCollection VARCHAR(30), due_date VARCHAR(30), totalCollectionAmount VARCHAR(30), numberOfRepayments VARCHAR(30), mandateReference VARCHAR(30), loan_disk_id VARCHAR(30), loan_status VARCHAR(30), average_salary VARCHAR(30), loan_obligation VARCHAR(30), monthly_repayment VARCHAR(30), loan_comment VARCHAR(30), paid_amount VARCHAR(30), last_paid_amount VARCHAR(30), last_paid_date VARCHAR(30), outstanding_loan_bal VARCHAR(30), remita_loan_repayment_ref VARCHAR(30), eligible_id VARCHAR(30), repayment_id VARCHAR(30), mandate_close VARCHAR(30), repayment_count VARCHAR(30), loan_percentage_taken VARCHAR(30), eligible_for_top_up VARCHAR(30), topup_eligible_amount VARCHAR(30));\n",
      "INSERT INTO Loan20220331 (id,customerId,currency,loanAmount,elgible_amount,dateOfDisbursement,dateOfCollection,due_date,totalCollectionAmount,numberOfRepayments,mandateReference,loan_disk_id,loan_status,average_salary,loan_obligation,monthly_repayment,loan_comment,paid_amount,last_paid_amount,last_paid_date,outstanding_loan_bal,remita_loan_repayment_ref,eligible_id,repayment_id,mandate_close,repayment_count,loan_percentage_taken,eligible_for_top_up,topup_eligible_amount) VALUES('1','r_11083734','NGN','66705','0','12/15/2021 17:33','1/17/2022 22:58','','78710','1','1.01E+11','2579455','1','0','0','0','open','','','','','','6','','0','','0','0','-66705')\n"
     ]
    },
    {
     "data": {
      "text/plain": [
       "True"
      ]
     },
     "execution_count": 42,
     "metadata": {},
     "output_type": "execute_result"
    }
   ],
   "source": [
    "file_data = process_file()\n",
    "col_names = file_data[\"colnames\"]\n",
    "records = file_data[\"records\"]\n",
    "use_name = file_data[\"filename\"]\n",
    "\n",
    "create_table_from_cols(col_names, use_name)\n",
    "create_table_data(col_names, records, use_name)"
   ]
  },
  {
   "cell_type": "code",
   "execution_count": null,
   "id": "c3447e96",
   "metadata": {},
   "outputs": [],
   "source": []
  }
 ],
 "metadata": {
  "kernelspec": {
   "display_name": "Python 3 (ipykernel)",
   "language": "python",
   "name": "python3"
  },
  "language_info": {
   "codemirror_mode": {
    "name": "ipython",
    "version": 3
   },
   "file_extension": ".py",
   "mimetype": "text/x-python",
   "name": "python",
   "nbconvert_exporter": "python",
   "pygments_lexer": "ipython3",
   "version": "3.7.9"
  }
 },
 "nbformat": 4,
 "nbformat_minor": 5
}
